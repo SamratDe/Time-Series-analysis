{
  "nbformat": 4,
  "nbformat_minor": 0,
  "metadata": {
    "colab": {
      "name": "07_Multistep_persistent_forecast.ipynb",
      "provenance": [],
      "collapsed_sections": [],
      "mount_file_id": "19SwEfkZj3o8ViGJWXBzyjvyrLxK63lGI",
      "authorship_tag": "ABX9TyM/AvO07+ACTYJ9C9hofP0v"
    },
    "kernelspec": {
      "name": "python3",
      "display_name": "Python 3"
    }
  },
  "cells": [
    {
      "cell_type": "code",
      "metadata": {
        "id": "p_4n6LOSxEhC",
        "colab_type": "code",
        "colab": {}
      },
      "source": [
        "from numpy import sqrt\n",
        "from pandas import read_csv\n",
        "from pandas import datetime\t\n",
        "from pandas import DataFrame\n",
        "from pandas import concat\n",
        "from sklearn.metrics import mean_squared_error\n",
        "from matplotlib import pyplot"
      ],
      "execution_count": 0,
      "outputs": []
    },
    {
      "cell_type": "code",
      "metadata": {
        "id": "85B3uqXPxVFz",
        "colab_type": "code",
        "colab": {}
      },
      "source": [
        "def parser(x):\n",
        "\treturn datetime.strptime('190'+x, '%Y-%m')"
      ],
      "execution_count": 0,
      "outputs": []
    },
    {
      "cell_type": "code",
      "metadata": {
        "id": "mGWRlcaHAA95",
        "colab_type": "code",
        "colab": {}
      },
      "source": [
        "df = read_csv('/content/drive/My Drive/Time Series practise/Practise/shampoo.csv', header=0, index_col=0, parse_dates=True, date_parser=parser)"
      ],
      "execution_count": 0,
      "outputs": []
    },
    {
      "cell_type": "code",
      "metadata": {
        "id": "pX97M1LcAUtl",
        "colab_type": "code",
        "outputId": "9ecf691f-e4bc-4a06-f879-bd4b6f42d761",
        "colab": {
          "base_uri": "https://localhost:8080/",
          "height": 235
        }
      },
      "source": [
        "df.head()"
      ],
      "execution_count": 73,
      "outputs": [
        {
          "output_type": "execute_result",
          "data": {
            "text/html": [
              "<div>\n",
              "<style scoped>\n",
              "    .dataframe tbody tr th:only-of-type {\n",
              "        vertical-align: middle;\n",
              "    }\n",
              "\n",
              "    .dataframe tbody tr th {\n",
              "        vertical-align: top;\n",
              "    }\n",
              "\n",
              "    .dataframe thead th {\n",
              "        text-align: right;\n",
              "    }\n",
              "</style>\n",
              "<table border=\"1\" class=\"dataframe\">\n",
              "  <thead>\n",
              "    <tr style=\"text-align: right;\">\n",
              "      <th></th>\n",
              "      <th>Sales</th>\n",
              "    </tr>\n",
              "    <tr>\n",
              "      <th>Month</th>\n",
              "      <th></th>\n",
              "    </tr>\n",
              "  </thead>\n",
              "  <tbody>\n",
              "    <tr>\n",
              "      <th>1901-01-01</th>\n",
              "      <td>266.0</td>\n",
              "    </tr>\n",
              "    <tr>\n",
              "      <th>1901-02-01</th>\n",
              "      <td>145.9</td>\n",
              "    </tr>\n",
              "    <tr>\n",
              "      <th>1901-03-01</th>\n",
              "      <td>183.1</td>\n",
              "    </tr>\n",
              "    <tr>\n",
              "      <th>1901-04-01</th>\n",
              "      <td>119.3</td>\n",
              "    </tr>\n",
              "    <tr>\n",
              "      <th>1901-05-01</th>\n",
              "      <td>180.3</td>\n",
              "    </tr>\n",
              "  </tbody>\n",
              "</table>\n",
              "</div>"
            ],
            "text/plain": [
              "            Sales\n",
              "Month            \n",
              "1901-01-01  266.0\n",
              "1901-02-01  145.9\n",
              "1901-03-01  183.1\n",
              "1901-04-01  119.3\n",
              "1901-05-01  180.3"
            ]
          },
          "metadata": {
            "tags": []
          },
          "execution_count": 73
        }
      ]
    },
    {
      "cell_type": "code",
      "metadata": {
        "id": "dcJN7B1_BEb8",
        "colab_type": "code",
        "outputId": "1288c7d0-20eb-4e4e-9eba-cd9b0b8e32bb",
        "colab": {
          "base_uri": "https://localhost:8080/",
          "height": 235
        }
      },
      "source": [
        "df.tail()"
      ],
      "execution_count": 74,
      "outputs": [
        {
          "output_type": "execute_result",
          "data": {
            "text/html": [
              "<div>\n",
              "<style scoped>\n",
              "    .dataframe tbody tr th:only-of-type {\n",
              "        vertical-align: middle;\n",
              "    }\n",
              "\n",
              "    .dataframe tbody tr th {\n",
              "        vertical-align: top;\n",
              "    }\n",
              "\n",
              "    .dataframe thead th {\n",
              "        text-align: right;\n",
              "    }\n",
              "</style>\n",
              "<table border=\"1\" class=\"dataframe\">\n",
              "  <thead>\n",
              "    <tr style=\"text-align: right;\">\n",
              "      <th></th>\n",
              "      <th>Sales</th>\n",
              "    </tr>\n",
              "    <tr>\n",
              "      <th>Month</th>\n",
              "      <th></th>\n",
              "    </tr>\n",
              "  </thead>\n",
              "  <tbody>\n",
              "    <tr>\n",
              "      <th>1903-08-01</th>\n",
              "      <td>407.6</td>\n",
              "    </tr>\n",
              "    <tr>\n",
              "      <th>1903-09-01</th>\n",
              "      <td>682.0</td>\n",
              "    </tr>\n",
              "    <tr>\n",
              "      <th>1903-10-01</th>\n",
              "      <td>475.3</td>\n",
              "    </tr>\n",
              "    <tr>\n",
              "      <th>1903-11-01</th>\n",
              "      <td>581.3</td>\n",
              "    </tr>\n",
              "    <tr>\n",
              "      <th>1903-12-01</th>\n",
              "      <td>646.9</td>\n",
              "    </tr>\n",
              "  </tbody>\n",
              "</table>\n",
              "</div>"
            ],
            "text/plain": [
              "            Sales\n",
              "Month            \n",
              "1903-08-01  407.6\n",
              "1903-09-01  682.0\n",
              "1903-10-01  475.3\n",
              "1903-11-01  581.3\n",
              "1903-12-01  646.9"
            ]
          },
          "metadata": {
            "tags": []
          },
          "execution_count": 74
        }
      ]
    },
    {
      "cell_type": "code",
      "metadata": {
        "id": "R_rW-pqqAsO1",
        "colab_type": "code",
        "outputId": "a38a3e10-4a4d-4f16-a87c-818395e4e86b",
        "colab": {
          "base_uri": "https://localhost:8080/",
          "height": 153
        }
      },
      "source": [
        "df.info()"
      ],
      "execution_count": 75,
      "outputs": [
        {
          "output_type": "stream",
          "text": [
            "<class 'pandas.core.frame.DataFrame'>\n",
            "DatetimeIndex: 36 entries, 1901-01-01 to 1903-12-01\n",
            "Data columns (total 1 columns):\n",
            " #   Column  Non-Null Count  Dtype  \n",
            "---  ------  --------------  -----  \n",
            " 0   Sales   36 non-null     float64\n",
            "dtypes: float64(1)\n",
            "memory usage: 576.0 bytes\n"
          ],
          "name": "stdout"
        }
      ]
    },
    {
      "cell_type": "code",
      "metadata": {
        "id": "AyNXfd7vxycP",
        "colab_type": "code",
        "outputId": "c42b7fa3-846b-41e8-b1d5-bbfdf4dc05e4",
        "colab": {
          "base_uri": "https://localhost:8080/",
          "height": 345
        }
      },
      "source": [
        "df.plot(figsize=(12,5));"
      ],
      "execution_count": 76,
      "outputs": [
        {
          "output_type": "display_data",
          "data": {
            "image/png": "[encoded data removed]",
            "text/plain": [
              "<Figure size 864x360 with 1 Axes>"
            ]
          },
          "metadata": {
            "tags": [],
            "needs_background": "light"
          }
        }
      ]
    },
    {
      "cell_type": "code",
      "metadata": {
        "id": "z1P5AcloAIA4",
        "colab_type": "code",
        "colab": {}
      },
      "source": [
        "# convert time series into supervised learning problem\n",
        "def series_to_supervised(data, n_in=1, n_out=1, dropnan=True):\n",
        "\tn_vars = 1 if type(data) is list else data.shape[1]\n",
        "\tdf = DataFrame(data)\n",
        "\tcols, names = list(), list()\n",
        "\t# input sequence (t-n, ... t-1)\n",
        "\tfor i in range(n_in, 0, -1):\n",
        "\t\tcols.append(df.shift(i))\n",
        "\t\tnames += [('var%d(t-%d)' % (j+1, i)) for j in range(n_vars)]\n",
        "\t# forecast sequence (t, t+1, ... t+n)\n",
        "\tfor i in range(0, n_out):\n",
        "\t\tcols.append(df.shift(-i))\n",
        "\t\tif i == 0:\n",
        "\t\t\tnames += [('var%d(t)' % (j+1)) for j in range(n_vars)]\n",
        "\t\telse:\n",
        "\t\t\tnames += [('var%d(t+%d)' % (j+1, i)) for j in range(n_vars)]\n",
        "\t# put it all together\n",
        "\tagg = concat(cols, axis=1)\n",
        "\tagg.columns = names\n",
        "\t# drop rows with NaN values\n",
        "\tif dropnan:\n",
        "\t\tagg.dropna(inplace=True)\n",
        "\treturn agg"
      ],
      "execution_count": 0,
      "outputs": []
    },
    {
      "cell_type": "code",
      "metadata": {
        "id": "vhgolIlb-AVU",
        "colab_type": "code",
        "colab": {}
      },
      "source": [
        "# transform series into train and test sets for supervised learning\n",
        "def prepare_data(series, n_test, n_lag, n_seq):\n",
        "\t# extract raw values\n",
        "\traw_values = series.values\n",
        "\traw_values = raw_values.reshape(len(raw_values), 1)\n",
        "\t# transform into supervised learning problem X, y\n",
        "\tsupervised = series_to_supervised(raw_values, n_lag, n_seq)\n",
        "\tsupervised_values = supervised.values\n",
        "\t# split into train and test sets\n",
        "\ttrain, test = supervised_values[0:-n_test], supervised_values[-n_test:]\n",
        "\treturn train, test"
      ],
      "execution_count": 0,
      "outputs": []
    },
    {
      "cell_type": "code",
      "metadata": {
        "id": "4BCOWVAVEqh9",
        "colab_type": "code",
        "colab": {}
      },
      "source": [
        "# make a persistence forecast\n",
        "def persistence(last_ob, n_seq):\n",
        "\treturn [last_ob for i in range(n_seq)]"
      ],
      "execution_count": 0,
      "outputs": []
    },
    {
      "cell_type": "code",
      "metadata": {
        "id": "UdbLjtEiFJyl",
        "colab_type": "code",
        "colab": {}
      },
      "source": [
        "# evaluate the persistence model\n",
        "def make_forecasts(train, test, n_lag, n_seq):\n",
        "\tforecasts = list()\n",
        "\tfor i in range(len(test)):\n",
        "\t\tX, y = test[i, 0:n_lag], test[i, n_lag:]\n",
        "\t\t# make forecast\n",
        "\t\tforecast = persistence(X[-1], n_seq)\n",
        "\t\t# store the forecast\n",
        "\t\tforecasts.append(forecast)\n",
        "\treturn forecasts"
      ],
      "execution_count": 0,
      "outputs": []
    },
    {
      "cell_type": "code",
      "metadata": {
        "id": "MLkaoN8rYDRx",
        "colab_type": "code",
        "colab": {}
      },
      "source": [
        "# evaluate the RMSE for each forecast time step\n",
        "def evaluate_forecasts(test, forecasts, n_lag, n_seq):\n",
        "\tfor i in range(n_seq):\n",
        "\t\tactual = test[:,(n_lag+i)]\n",
        "\t\tpredicted = [forecast[i] for forecast in forecasts]\n",
        "\t\trmse = sqrt(mean_squared_error(actual, predicted))\n",
        "\t\tprint('t+%d RMSE: %f' % ((i+1), rmse))"
      ],
      "execution_count": 0,
      "outputs": []
    },
    {
      "cell_type": "code",
      "metadata": {
        "id": "B7VSDLWtY4Q1",
        "colab_type": "code",
        "colab": {}
      },
      "source": [
        "# plot the forecasts in the context of the original dataset\n",
        "def plot_forecasts(series, forecasts, n_test):\n",
        "\t# plot the entire dataset in blue\n",
        "\tpyplot.plot(series.values)\n",
        "\t# plot the forecasts in red\n",
        "\tfor i in range(len(forecasts)):\n",
        "\t\toff_s = len(series) - 12 + i - 1\n",
        "\t\toff_e = off_s + len(forecasts[i]) + 1\n",
        "\t\txaxis = [x for x in range(off_s, off_e)]\n",
        "\t\tyaxis = [series.values[off_s]] + forecasts[i]\n",
        "\t\tpyplot.plot(xaxis, yaxis, color='red')\n",
        "\t# show the plot\n",
        "\tpyplot.show()"
      ],
      "execution_count": 0,
      "outputs": []
    },
    {
      "cell_type": "code",
      "metadata": {
        "id": "Lo9AQq0M-ZQC",
        "colab_type": "code",
        "colab": {}
      },
      "source": [
        "n_lag = 1\n",
        "n_seq = 3\n",
        "n_test = 10"
      ],
      "execution_count": 0,
      "outputs": []
    },
    {
      "cell_type": "code",
      "metadata": {
        "id": "sPu9yTYj-3Cd",
        "colab_type": "code",
        "outputId": "40631b45-716f-4267-eff9-c0a5ee8035ca",
        "colab": {
          "base_uri": "https://localhost:8080/",
          "height": 34
        }
      },
      "source": [
        "# prepare data\n",
        "train, test = prepare_data(df, n_test, n_lag, n_seq)\n",
        "print('Train: %s, Test: %s' % (train.shape, test.shape))"
      ],
      "execution_count": 80,
      "outputs": [
        {
          "output_type": "stream",
          "text": [
            "Train: (23, 4), Test: (10, 4)\n"
          ],
          "name": "stdout"
        }
      ]
    },
    {
      "cell_type": "code",
      "metadata": {
        "id": "tsO3QQU5X2Pb",
        "colab_type": "code",
        "colab": {}
      },
      "source": [
        "forecasts = make_forecasts(train, test, 1, 3)"
      ],
      "execution_count": 0,
      "outputs": []
    },
    {
      "cell_type": "code",
      "metadata": {
        "id": "KEG5d-FkYE8k",
        "colab_type": "code",
        "colab": {
          "base_uri": "https://localhost:8080/",
          "height": 68
        },
        "outputId": "7308b80a-0fe4-4ba8-d010-e9e1a140c0e7"
      },
      "source": [
        "evaluate_forecasts(test, forecasts, 1, 3)"
      ],
      "execution_count": 101,
      "outputs": [
        {
          "output_type": "stream",
          "text": [
            "t+1 RMSE: 144.535304\n",
            "t+2 RMSE: 86.479905\n",
            "t+3 RMSE: 121.149168\n"
          ],
          "name": "stdout"
        }
      ]
    },
    {
      "cell_type": "code",
      "metadata": {
        "id": "_ZzX3w7GY9IA",
        "colab_type": "code",
        "colab": {
          "base_uri": "https://localhost:8080/",
          "height": 266
        },
        "outputId": "ed411610-afaf-4655-929d-8425f5bbafc6"
      },
      "source": [
        "plot_forecasts(df, forecasts, 12)"
      ],
      "execution_count": 104,
      "outputs": [
        {
          "output_type": "display_data",
          "data": {
            "image/png": "[encoded data removed]",
            "text/plain": [
              "<Figure size 432x288 with 1 Axes>"
            ]
          },
          "metadata": {
            "tags": [],
            "needs_background": "light"
          }
        }
      ]
    },
    {
      "cell_type": "code",
      "metadata": {
        "id": "7asahSESaBlH",
        "colab_type": "code",
        "colab": {}
      },
      "source": [
        ""
      ],
      "execution_count": 0,
      "outputs": []
    }
  ]
}