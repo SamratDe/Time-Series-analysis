{
  "nbformat": 4,
  "nbformat_minor": 0,
  "metadata": {
    "colab": {
      "name": "Time Series with pandas.ipynb",
      "provenance": [],
      "collapsed_sections": [
        "A44p4Rq-qR0u",
        "Oe6xwzCjp-mA",
        "wJ34aBlTqGE-"
      ],
      "mount_file_id": "13W1bwtRPSna24ZMqb3gPalGN3Laj5uBu",
      "authorship_tag": "ABX9TyPK2R9DauwYDwccqU0KOGiy"
    },
    "kernelspec": {
      "name": "python3",
      "display_name": "Python 3"
    }
  },
  "cells": [
    {
      "cell_type": "markdown",
      "metadata": {
        "id": "A44p4Rq-qR0u",
        "colab_type": "text"
      },
      "source": [
        "# **Builtin Python datetime**"
      ]
    },
    {
      "cell_type": "code",
      "metadata": {
        "id": "wm6xSK9eIRIm",
        "colab_type": "code",
        "colab": {}
      },
      "source": [
        "from datetime import datetime"
      ],
      "execution_count": 0,
      "outputs": []
    },
    {
      "cell_type": "code",
      "metadata": {
        "id": "78D3kuT7OHKk",
        "colab_type": "code",
        "colab": {}
      },
      "source": [
        "my_year = 2020\n",
        "my_month = 9\n",
        "my_day = 24\n",
        "my_hour = 13\n",
        "my_min = 30\n",
        "my_sec = 29"
      ],
      "execution_count": 0,
      "outputs": []
    },
    {
      "cell_type": "code",
      "metadata": {
        "id": "K26vPUtEOm7R",
        "colab_type": "code",
        "colab": {}
      },
      "source": [
        "my_date = datetime(my_year, my_month, my_day)"
      ],
      "execution_count": 0,
      "outputs": []
    },
    {
      "cell_type": "code",
      "metadata": {
        "id": "2THF2QkGOxy4",
        "colab_type": "code",
        "outputId": "226daada-878e-4411-809a-6d537ce371c3",
        "colab": {
          "base_uri": "https://localhost:8080/",
          "height": 34
        }
      },
      "source": [
        "my_date"
      ],
      "execution_count": 29,
      "outputs": [
        {
          "output_type": "execute_result",
          "data": {
            "text/plain": [
              "datetime.datetime(2020, 9, 24, 0, 0)"
            ]
          },
          "metadata": {
            "tags": []
          },
          "execution_count": 29
        }
      ]
    },
    {
      "cell_type": "code",
      "metadata": {
        "id": "DgCuZ1fpO4xa",
        "colab_type": "code",
        "colab": {}
      },
      "source": [
        "my_date = datetime(my_year, my_month, my_day, my_hour, my_min, my_sec)"
      ],
      "execution_count": 0,
      "outputs": []
    },
    {
      "cell_type": "code",
      "metadata": {
        "id": "fCBdE73PO_Ks",
        "colab_type": "code",
        "outputId": "7d69b6ad-d6a5-46f5-976b-0d861f14f502",
        "colab": {
          "base_uri": "https://localhost:8080/",
          "height": 34
        }
      },
      "source": [
        "my_date"
      ],
      "execution_count": 31,
      "outputs": [
        {
          "output_type": "execute_result",
          "data": {
            "text/plain": [
              "datetime.datetime(2020, 9, 24, 13, 30, 29)"
            ]
          },
          "metadata": {
            "tags": []
          },
          "execution_count": 31
        }
      ]
    },
    {
      "cell_type": "markdown",
      "metadata": {
        "id": "Oe6xwzCjp-mA",
        "colab_type": "text"
      },
      "source": [
        "# **datetime64 in Numpy**"
      ]
    },
    {
      "cell_type": "code",
      "metadata": {
        "id": "OdwHZnudPB8c",
        "colab_type": "code",
        "colab": {}
      },
      "source": [
        "import numpy as np"
      ],
      "execution_count": 0,
      "outputs": []
    },
    {
      "cell_type": "code",
      "metadata": {
        "id": "zfQuEvx3PRly",
        "colab_type": "code",
        "outputId": "251dd487-80dd-454b-f124-86aaf8851cf5",
        "colab": {
          "base_uri": "https://localhost:8080/",
          "height": 34
        }
      },
      "source": [
        "np.array(['2020-03-15', '2020-03-17'], dtype='datetime64')"
      ],
      "execution_count": 33,
      "outputs": [
        {
          "output_type": "execute_result",
          "data": {
            "text/plain": [
              "array(['2020-03-15', '2020-03-17'], dtype='datetime64[D]')"
            ]
          },
          "metadata": {
            "tags": []
          },
          "execution_count": 33
        }
      ]
    },
    {
      "cell_type": "code",
      "metadata": {
        "id": "vpqo9DQYQiVg",
        "colab_type": "code",
        "colab": {
          "base_uri": "https://localhost:8080/",
          "height": 68
        },
        "outputId": "7a954a69-4e5b-480b-c9ff-d2dbbc8c2611"
      },
      "source": [
        "np.arange('2020-06-23', '2020-07-02', 1, dtype='datetime64[D]')"
      ],
      "execution_count": 35,
      "outputs": [
        {
          "output_type": "execute_result",
          "data": {
            "text/plain": [
              "array(['2020-06-23', '2020-06-24', '2020-06-25', '2020-06-26',\n",
              "       '2020-06-27', '2020-06-28', '2020-06-29', '2020-06-30',\n",
              "       '2020-07-01'], dtype='datetime64[D]')"
            ]
          },
          "metadata": {
            "tags": []
          },
          "execution_count": 35
        }
      ]
    },
    {
      "cell_type": "markdown",
      "metadata": {
        "id": "wJ34aBlTqGE-",
        "colab_type": "text"
      },
      "source": [
        "# **Pandas**"
      ]
    },
    {
      "cell_type": "code",
      "metadata": {
        "id": "FchQJLjmiUAt",
        "colab_type": "code",
        "colab": {}
      },
      "source": [
        "import pandas as pd"
      ],
      "execution_count": 0,
      "outputs": []
    },
    {
      "cell_type": "markdown",
      "metadata": {
        "id": "TfV9xp5FB3FL",
        "colab_type": "text"
      },
      "source": [
        "**Date Time**"
      ]
    },
    {
      "cell_type": "code",
      "metadata": {
        "id": "ffz2uNwli2hK",
        "colab_type": "code",
        "colab": {
          "base_uri": "https://localhost:8080/",
          "height": 68
        },
        "outputId": "89301295-33f5-4fa7-e79d-59994a663d41"
      },
      "source": [
        "pd.date_range('2020-01-01', periods=7, freq='D')    # D stand for days"
      ],
      "execution_count": 37,
      "outputs": [
        {
          "output_type": "execute_result",
          "data": {
            "text/plain": [
              "DatetimeIndex(['2020-01-01', '2020-01-02', '2020-01-03', '2020-01-04',\n",
              "               '2020-01-05', '2020-01-06', '2020-01-07'],\n",
              "              dtype='datetime64[ns]', freq='D')"
            ]
          },
          "metadata": {
            "tags": []
          },
          "execution_count": 37
        }
      ]
    },
    {
      "cell_type": "code",
      "metadata": {
        "id": "Nw4Id5E9jOnr",
        "colab_type": "code",
        "colab": {
          "base_uri": "https://localhost:8080/",
          "height": 34
        },
        "outputId": "8f5c4cc3-0726-4dd9-d7d8-81584fa2d389"
      },
      "source": [
        "# we can format our date time style   e.g - dd/mm/yy\n",
        "pd.to_datetime(['2/1/2020', '10/1/2020'], format='%d/%m/%Y')"
      ],
      "execution_count": 42,
      "outputs": [
        {
          "output_type": "execute_result",
          "data": {
            "text/plain": [
              "DatetimeIndex(['2020-01-02', '2020-01-10'], dtype='datetime64[ns]', freq=None)"
            ]
          },
          "metadata": {
            "tags": []
          },
          "execution_count": 42
        }
      ]
    },
    {
      "cell_type": "code",
      "metadata": {
        "id": "flUisEp9kVm1",
        "colab_type": "code",
        "colab": {}
      },
      "source": [
        "# creating random dataframe\n",
        "data = np.random.randn(3,2)\n",
        "cols = 'A B'.split()\n",
        "idx = pd.date_range('2020-01-01', periods=3, freq='D')\n",
        "df = pd.DataFrame(data, index=idx, columns=cols)"
      ],
      "execution_count": 0,
      "outputs": []
    },
    {
      "cell_type": "code",
      "metadata": {
        "id": "ppbEyji_oimB",
        "colab_type": "code",
        "colab": {
          "base_uri": "https://localhost:8080/",
          "height": 142
        },
        "outputId": "bf4a8d81-1a32-41f0-96a6-5b43cd4b0c47"
      },
      "source": [
        "df"
      ],
      "execution_count": 46,
      "outputs": [
        {
          "output_type": "execute_result",
          "data": {
            "text/html": [
              "<div>\n",
              "<style scoped>\n",
              "    .dataframe tbody tr th:only-of-type {\n",
              "        vertical-align: middle;\n",
              "    }\n",
              "\n",
              "    .dataframe tbody tr th {\n",
              "        vertical-align: top;\n",
              "    }\n",
              "\n",
              "    .dataframe thead th {\n",
              "        text-align: right;\n",
              "    }\n",
              "</style>\n",
              "<table border=\"1\" class=\"dataframe\">\n",
              "  <thead>\n",
              "    <tr style=\"text-align: right;\">\n",
              "      <th></th>\n",
              "      <th>A</th>\n",
              "      <th>B</th>\n",
              "    </tr>\n",
              "  </thead>\n",
              "  <tbody>\n",
              "    <tr>\n",
              "      <th>2020-01-01</th>\n",
              "      <td>-0.692387</td>\n",
              "      <td>-0.336816</td>\n",
              "    </tr>\n",
              "    <tr>\n",
              "      <th>2020-01-02</th>\n",
              "      <td>0.657993</td>\n",
              "      <td>1.653930</td>\n",
              "    </tr>\n",
              "    <tr>\n",
              "      <th>2020-01-03</th>\n",
              "      <td>-1.682997</td>\n",
              "      <td>0.851484</td>\n",
              "    </tr>\n",
              "  </tbody>\n",
              "</table>\n",
              "</div>"
            ],
            "text/plain": [
              "                   A         B\n",
              "2020-01-01 -0.692387 -0.336816\n",
              "2020-01-02  0.657993  1.653930\n",
              "2020-01-03 -1.682997  0.851484"
            ]
          },
          "metadata": {
            "tags": []
          },
          "execution_count": 46
        }
      ]
    },
    {
      "cell_type": "code",
      "metadata": {
        "id": "adWxYYXopH1q",
        "colab_type": "code",
        "colab": {
          "base_uri": "https://localhost:8080/",
          "height": 34
        },
        "outputId": "17f304a3-3aa3-4c22-b4f3-3759b5d2fcc6"
      },
      "source": [
        "df.index"
      ],
      "execution_count": 48,
      "outputs": [
        {
          "output_type": "execute_result",
          "data": {
            "text/plain": [
              "DatetimeIndex(['2020-01-01', '2020-01-02', '2020-01-03'], dtype='datetime64[ns]', freq='D')"
            ]
          },
          "metadata": {
            "tags": []
          },
          "execution_count": 48
        }
      ]
    },
    {
      "cell_type": "code",
      "metadata": {
        "id": "ytEqC4IMpTjZ",
        "colab_type": "code",
        "colab": {
          "base_uri": "https://localhost:8080/",
          "height": 34
        },
        "outputId": "3d4f4417-4f8f-414d-a405-d9826c5361ad"
      },
      "source": [
        "df.index.max()"
      ],
      "execution_count": 49,
      "outputs": [
        {
          "output_type": "execute_result",
          "data": {
            "text/plain": [
              "Timestamp('2020-01-03 00:00:00', freq='D')"
            ]
          },
          "metadata": {
            "tags": []
          },
          "execution_count": 49
        }
      ]
    },
    {
      "cell_type": "code",
      "metadata": {
        "id": "aluQcBsSpXvt",
        "colab_type": "code",
        "colab": {
          "base_uri": "https://localhost:8080/",
          "height": 34
        },
        "outputId": "7dda39d0-be2a-4c48-e2a1-9ff1829aed4f"
      },
      "source": [
        "df.index.argmax()"
      ],
      "execution_count": 50,
      "outputs": [
        {
          "output_type": "execute_result",
          "data": {
            "text/plain": [
              "2"
            ]
          },
          "metadata": {
            "tags": []
          },
          "execution_count": 50
        }
      ]
    },
    {
      "cell_type": "markdown",
      "metadata": {
        "id": "KWdp1FVQpyTx",
        "colab_type": "text"
      },
      "source": [
        "**Time Resampling**"
      ]
    },
    {
      "cell_type": "code",
      "metadata": {
        "id": "KiiL4Spppa82",
        "colab_type": "code",
        "colab": {
          "base_uri": "https://localhost:8080/",
          "height": 450
        },
        "outputId": "b400603d-45f0-41ed-ea66-18b6aae4f4af"
      },
      "source": [
        "df = pd.read_csv('/content/drive/My Drive/Time Series practise/Data/starbucks.csv', index_col='Date', parse_dates=True)\n",
        "df"
      ],
      "execution_count": 76,
      "outputs": [
        {
          "output_type": "execute_result",
          "data": {
            "text/html": [
              "<div>\n",
              "<style scoped>\n",
              "    .dataframe tbody tr th:only-of-type {\n",
              "        vertical-align: middle;\n",
              "    }\n",
              "\n",
              "    .dataframe tbody tr th {\n",
              "        vertical-align: top;\n",
              "    }\n",
              "\n",
              "    .dataframe thead th {\n",
              "        text-align: right;\n",
              "    }\n",
              "</style>\n",
              "<table border=\"1\" class=\"dataframe\">\n",
              "  <thead>\n",
              "    <tr style=\"text-align: right;\">\n",
              "      <th></th>\n",
              "      <th>Close</th>\n",
              "      <th>Volume</th>\n",
              "    </tr>\n",
              "    <tr>\n",
              "      <th>Date</th>\n",
              "      <th></th>\n",
              "      <th></th>\n",
              "    </tr>\n",
              "  </thead>\n",
              "  <tbody>\n",
              "    <tr>\n",
              "      <th>2015-01-02</th>\n",
              "      <td>38.0061</td>\n",
              "      <td>6906098</td>\n",
              "    </tr>\n",
              "    <tr>\n",
              "      <th>2015-01-05</th>\n",
              "      <td>37.2781</td>\n",
              "      <td>11623796</td>\n",
              "    </tr>\n",
              "    <tr>\n",
              "      <th>2015-01-06</th>\n",
              "      <td>36.9748</td>\n",
              "      <td>7664340</td>\n",
              "    </tr>\n",
              "    <tr>\n",
              "      <th>2015-01-07</th>\n",
              "      <td>37.8848</td>\n",
              "      <td>9732554</td>\n",
              "    </tr>\n",
              "    <tr>\n",
              "      <th>2015-01-08</th>\n",
              "      <td>38.4961</td>\n",
              "      <td>13170548</td>\n",
              "    </tr>\n",
              "    <tr>\n",
              "      <th>...</th>\n",
              "      <td>...</td>\n",
              "      <td>...</td>\n",
              "    </tr>\n",
              "    <tr>\n",
              "      <th>2018-12-24</th>\n",
              "      <td>60.5600</td>\n",
              "      <td>6323252</td>\n",
              "    </tr>\n",
              "    <tr>\n",
              "      <th>2018-12-26</th>\n",
              "      <td>63.0800</td>\n",
              "      <td>16646238</td>\n",
              "    </tr>\n",
              "    <tr>\n",
              "      <th>2018-12-27</th>\n",
              "      <td>63.2000</td>\n",
              "      <td>11308081</td>\n",
              "    </tr>\n",
              "    <tr>\n",
              "      <th>2018-12-28</th>\n",
              "      <td>63.3900</td>\n",
              "      <td>7712127</td>\n",
              "    </tr>\n",
              "    <tr>\n",
              "      <th>2018-12-31</th>\n",
              "      <td>64.4000</td>\n",
              "      <td>7690183</td>\n",
              "    </tr>\n",
              "  </tbody>\n",
              "</table>\n",
              "<p>1006 rows × 2 columns</p>\n",
              "</div>"
            ],
            "text/plain": [
              "              Close    Volume\n",
              "Date                         \n",
              "2015-01-02  38.0061   6906098\n",
              "2015-01-05  37.2781  11623796\n",
              "2015-01-06  36.9748   7664340\n",
              "2015-01-07  37.8848   9732554\n",
              "2015-01-08  38.4961  13170548\n",
              "...             ...       ...\n",
              "2018-12-24  60.5600   6323252\n",
              "2018-12-26  63.0800  16646238\n",
              "2018-12-27  63.2000  11308081\n",
              "2018-12-28  63.3900   7712127\n",
              "2018-12-31  64.4000   7690183\n",
              "\n",
              "[1006 rows x 2 columns]"
            ]
          },
          "metadata": {
            "tags": []
          },
          "execution_count": 76
        }
      ]
    },
    {
      "cell_type": "code",
      "metadata": {
        "id": "odsPdNDCs8ei",
        "colab_type": "code",
        "colab": {
          "base_uri": "https://localhost:8080/",
          "height": 153
        },
        "outputId": "5932159a-3500-4ae3-e9df-db86a0c4e3c9"
      },
      "source": [
        "df.index"
      ],
      "execution_count": 77,
      "outputs": [
        {
          "output_type": "execute_result",
          "data": {
            "text/plain": [
              "DatetimeIndex(['2015-01-02', '2015-01-05', '2015-01-06', '2015-01-07',\n",
              "               '2015-01-08', '2015-01-09', '2015-01-12', '2015-01-13',\n",
              "               '2015-01-14', '2015-01-15',\n",
              "               ...\n",
              "               '2018-12-17', '2018-12-18', '2018-12-19', '2018-12-20',\n",
              "               '2018-12-21', '2018-12-24', '2018-12-26', '2018-12-27',\n",
              "               '2018-12-28', '2018-12-31'],\n",
              "              dtype='datetime64[ns]', name='Date', length=1006, freq=None)"
            ]
          },
          "metadata": {
            "tags": []
          },
          "execution_count": 77
        }
      ]
    },
    {
      "cell_type": "markdown",
      "metadata": {
        "id": "w2xnRweVB-B3",
        "colab_type": "text"
      },
      "source": [
        "**Resampling**"
      ]
    },
    {
      "cell_type": "code",
      "metadata": {
        "id": "q3OqUwRVvOHA",
        "colab_type": "code",
        "colab": {
          "base_uri": "https://localhost:8080/",
          "height": 204
        },
        "outputId": "16c98e82-311b-489e-d60a-280459b45702"
      },
      "source": [
        "# using resample with rule\n",
        "df.resample(rule='A').mean()"
      ],
      "execution_count": 57,
      "outputs": [
        {
          "output_type": "execute_result",
          "data": {
            "text/html": [
              "<div>\n",
              "<style scoped>\n",
              "    .dataframe tbody tr th:only-of-type {\n",
              "        vertical-align: middle;\n",
              "    }\n",
              "\n",
              "    .dataframe tbody tr th {\n",
              "        vertical-align: top;\n",
              "    }\n",
              "\n",
              "    .dataframe thead th {\n",
              "        text-align: right;\n",
              "    }\n",
              "</style>\n",
              "<table border=\"1\" class=\"dataframe\">\n",
              "  <thead>\n",
              "    <tr style=\"text-align: right;\">\n",
              "      <th></th>\n",
              "      <th>Close</th>\n",
              "      <th>Volume</th>\n",
              "    </tr>\n",
              "    <tr>\n",
              "      <th>Date</th>\n",
              "      <th></th>\n",
              "      <th></th>\n",
              "    </tr>\n",
              "  </thead>\n",
              "  <tbody>\n",
              "    <tr>\n",
              "      <th>2015-12-31</th>\n",
              "      <td>50.078100</td>\n",
              "      <td>8.649190e+06</td>\n",
              "    </tr>\n",
              "    <tr>\n",
              "      <th>2016-12-31</th>\n",
              "      <td>53.891732</td>\n",
              "      <td>9.300633e+06</td>\n",
              "    </tr>\n",
              "    <tr>\n",
              "      <th>2017-12-31</th>\n",
              "      <td>55.457310</td>\n",
              "      <td>9.296078e+06</td>\n",
              "    </tr>\n",
              "    <tr>\n",
              "      <th>2018-12-31</th>\n",
              "      <td>56.870005</td>\n",
              "      <td>1.122883e+07</td>\n",
              "    </tr>\n",
              "  </tbody>\n",
              "</table>\n",
              "</div>"
            ],
            "text/plain": [
              "                Close        Volume\n",
              "Date                               \n",
              "2015-12-31  50.078100  8.649190e+06\n",
              "2016-12-31  53.891732  9.300633e+06\n",
              "2017-12-31  55.457310  9.296078e+06\n",
              "2018-12-31  56.870005  1.122883e+07"
            ]
          },
          "metadata": {
            "tags": []
          },
          "execution_count": 57
        }
      ]
    },
    {
      "cell_type": "code",
      "metadata": {
        "id": "kscp0uNV_-ux",
        "colab_type": "code",
        "colab": {
          "base_uri": "https://localhost:8080/",
          "height": 391
        },
        "outputId": "38d4c06b-1cd3-4e59-e958-3d8d49199566"
      },
      "source": [
        "# plotting for avg closing price/year\n",
        "df['Close'].resample(rule='A').mean().plot.bar()"
      ],
      "execution_count": 61,
      "outputs": [
        {
          "output_type": "execute_result",
          "data": {
            "text/plain": [
              "<matplotlib.axes._subplots.AxesSubplot at 0x7fb2545ddef0>"
            ]
          },
          "metadata": {
            "tags": []
          },
          "execution_count": 61
        },
        {
          "output_type": "display_data",
          "data": {
            "image/png": "[encoded data removed]",
            "text/plain": [
              "<Figure size 432x288 with 1 Axes>"
            ]
          },
          "metadata": {
            "tags": [],
            "needs_background": "light"
          }
        }
      ]
    },
    {
      "cell_type": "code",
      "metadata": {
        "id": "2X7aKTR2AjDC",
        "colab_type": "code",
        "colab": {
          "base_uri": "https://localhost:8080/",
          "height": 495
        },
        "outputId": "42631f60-710f-4af9-a644-d4aa33096858"
      },
      "source": [
        "# plotting for avg closing price/month\n",
        "title = 'Monthly closing price for starbucks'\n",
        "df['Close'].resample(rule='M').mean().plot.bar(figsize=(16,6), title=title)"
      ],
      "execution_count": 63,
      "outputs": [
        {
          "output_type": "execute_result",
          "data": {
            "text/plain": [
              "<matplotlib.axes._subplots.AxesSubplot at 0x7fb253f4cbe0>"
            ]
          },
          "metadata": {
            "tags": []
          },
          "execution_count": 63
        },
        {
          "output_type": "display_data",
          "data": {
            "image/png": "[encoded data removed]",
            "text/plain": [
              "<Figure size 1152x432 with 1 Axes>"
            ]
          },
          "metadata": {
            "tags": [],
            "needs_background": "light"
          }
        }
      ]
    },
    {
      "cell_type": "markdown",
      "metadata": {
        "id": "0vQOxc89CCKR",
        "colab_type": "text"
      },
      "source": [
        "**Time shifting**"
      ]
    },
    {
      "cell_type": "code",
      "metadata": {
        "id": "jIw1oXjtBfAs",
        "colab_type": "code",
        "colab": {
          "base_uri": "https://localhost:8080/",
          "height": 235
        },
        "outputId": "f4d51aa5-5579-4342-dae5-89c8f3049923"
      },
      "source": [
        "df.shift(2).head()          # shifting the rows down"
      ],
      "execution_count": 64,
      "outputs": [
        {
          "output_type": "execute_result",
          "data": {
            "text/html": [
              "<div>\n",
              "<style scoped>\n",
              "    .dataframe tbody tr th:only-of-type {\n",
              "        vertical-align: middle;\n",
              "    }\n",
              "\n",
              "    .dataframe tbody tr th {\n",
              "        vertical-align: top;\n",
              "    }\n",
              "\n",
              "    .dataframe thead th {\n",
              "        text-align: right;\n",
              "    }\n",
              "</style>\n",
              "<table border=\"1\" class=\"dataframe\">\n",
              "  <thead>\n",
              "    <tr style=\"text-align: right;\">\n",
              "      <th></th>\n",
              "      <th>Close</th>\n",
              "      <th>Volume</th>\n",
              "    </tr>\n",
              "    <tr>\n",
              "      <th>Date</th>\n",
              "      <th></th>\n",
              "      <th></th>\n",
              "    </tr>\n",
              "  </thead>\n",
              "  <tbody>\n",
              "    <tr>\n",
              "      <th>2015-01-02</th>\n",
              "      <td>NaN</td>\n",
              "      <td>NaN</td>\n",
              "    </tr>\n",
              "    <tr>\n",
              "      <th>2015-01-05</th>\n",
              "      <td>NaN</td>\n",
              "      <td>NaN</td>\n",
              "    </tr>\n",
              "    <tr>\n",
              "      <th>2015-01-06</th>\n",
              "      <td>38.0061</td>\n",
              "      <td>6906098.0</td>\n",
              "    </tr>\n",
              "    <tr>\n",
              "      <th>2015-01-07</th>\n",
              "      <td>37.2781</td>\n",
              "      <td>11623796.0</td>\n",
              "    </tr>\n",
              "    <tr>\n",
              "      <th>2015-01-08</th>\n",
              "      <td>36.9748</td>\n",
              "      <td>7664340.0</td>\n",
              "    </tr>\n",
              "  </tbody>\n",
              "</table>\n",
              "</div>"
            ],
            "text/plain": [
              "              Close      Volume\n",
              "Date                           \n",
              "2015-01-02      NaN         NaN\n",
              "2015-01-05      NaN         NaN\n",
              "2015-01-06  38.0061   6906098.0\n",
              "2015-01-07  37.2781  11623796.0\n",
              "2015-01-08  36.9748   7664340.0"
            ]
          },
          "metadata": {
            "tags": []
          },
          "execution_count": 64
        }
      ]
    },
    {
      "cell_type": "code",
      "metadata": {
        "id": "E-m3VXnJDTpn",
        "colab_type": "code",
        "colab": {
          "base_uri": "https://localhost:8080/",
          "height": 235
        },
        "outputId": "45cb6857-130a-4399-9aed-005a04ee8c00"
      },
      "source": [
        "df.shift(-1).head()        # shifting the rows up"
      ],
      "execution_count": 66,
      "outputs": [
        {
          "output_type": "execute_result",
          "data": {
            "text/html": [
              "<div>\n",
              "<style scoped>\n",
              "    .dataframe tbody tr th:only-of-type {\n",
              "        vertical-align: middle;\n",
              "    }\n",
              "\n",
              "    .dataframe tbody tr th {\n",
              "        vertical-align: top;\n",
              "    }\n",
              "\n",
              "    .dataframe thead th {\n",
              "        text-align: right;\n",
              "    }\n",
              "</style>\n",
              "<table border=\"1\" class=\"dataframe\">\n",
              "  <thead>\n",
              "    <tr style=\"text-align: right;\">\n",
              "      <th></th>\n",
              "      <th>Close</th>\n",
              "      <th>Volume</th>\n",
              "    </tr>\n",
              "    <tr>\n",
              "      <th>Date</th>\n",
              "      <th></th>\n",
              "      <th></th>\n",
              "    </tr>\n",
              "  </thead>\n",
              "  <tbody>\n",
              "    <tr>\n",
              "      <th>2015-01-02</th>\n",
              "      <td>37.2781</td>\n",
              "      <td>11623796.0</td>\n",
              "    </tr>\n",
              "    <tr>\n",
              "      <th>2015-01-05</th>\n",
              "      <td>36.9748</td>\n",
              "      <td>7664340.0</td>\n",
              "    </tr>\n",
              "    <tr>\n",
              "      <th>2015-01-06</th>\n",
              "      <td>37.8848</td>\n",
              "      <td>9732554.0</td>\n",
              "    </tr>\n",
              "    <tr>\n",
              "      <th>2015-01-07</th>\n",
              "      <td>38.4961</td>\n",
              "      <td>13170548.0</td>\n",
              "    </tr>\n",
              "    <tr>\n",
              "      <th>2015-01-08</th>\n",
              "      <td>37.2361</td>\n",
              "      <td>27556706.0</td>\n",
              "    </tr>\n",
              "  </tbody>\n",
              "</table>\n",
              "</div>"
            ],
            "text/plain": [
              "              Close      Volume\n",
              "Date                           \n",
              "2015-01-02  37.2781  11623796.0\n",
              "2015-01-05  36.9748   7664340.0\n",
              "2015-01-06  37.8848   9732554.0\n",
              "2015-01-07  38.4961  13170548.0\n",
              "2015-01-08  37.2361  27556706.0"
            ]
          },
          "metadata": {
            "tags": []
          },
          "execution_count": 66
        }
      ]
    },
    {
      "cell_type": "code",
      "metadata": {
        "id": "Idi927FRDoVS",
        "colab_type": "code",
        "colab": {
          "base_uri": "https://localhost:8080/",
          "height": 235
        },
        "outputId": "a8a4876a-a6a5-4709-eb0e-36dc679b8570"
      },
      "source": [
        "df.shift(periods=1,freq='M').head()     # shifting by the end of thet month"
      ],
      "execution_count": 67,
      "outputs": [
        {
          "output_type": "execute_result",
          "data": {
            "text/html": [
              "<div>\n",
              "<style scoped>\n",
              "    .dataframe tbody tr th:only-of-type {\n",
              "        vertical-align: middle;\n",
              "    }\n",
              "\n",
              "    .dataframe tbody tr th {\n",
              "        vertical-align: top;\n",
              "    }\n",
              "\n",
              "    .dataframe thead th {\n",
              "        text-align: right;\n",
              "    }\n",
              "</style>\n",
              "<table border=\"1\" class=\"dataframe\">\n",
              "  <thead>\n",
              "    <tr style=\"text-align: right;\">\n",
              "      <th></th>\n",
              "      <th>Close</th>\n",
              "      <th>Volume</th>\n",
              "    </tr>\n",
              "    <tr>\n",
              "      <th>Date</th>\n",
              "      <th></th>\n",
              "      <th></th>\n",
              "    </tr>\n",
              "  </thead>\n",
              "  <tbody>\n",
              "    <tr>\n",
              "      <th>2015-01-31</th>\n",
              "      <td>38.0061</td>\n",
              "      <td>6906098</td>\n",
              "    </tr>\n",
              "    <tr>\n",
              "      <th>2015-01-31</th>\n",
              "      <td>37.2781</td>\n",
              "      <td>11623796</td>\n",
              "    </tr>\n",
              "    <tr>\n",
              "      <th>2015-01-31</th>\n",
              "      <td>36.9748</td>\n",
              "      <td>7664340</td>\n",
              "    </tr>\n",
              "    <tr>\n",
              "      <th>2015-01-31</th>\n",
              "      <td>37.8848</td>\n",
              "      <td>9732554</td>\n",
              "    </tr>\n",
              "    <tr>\n",
              "      <th>2015-01-31</th>\n",
              "      <td>38.4961</td>\n",
              "      <td>13170548</td>\n",
              "    </tr>\n",
              "  </tbody>\n",
              "</table>\n",
              "</div>"
            ],
            "text/plain": [
              "              Close    Volume\n",
              "Date                         \n",
              "2015-01-31  38.0061   6906098\n",
              "2015-01-31  37.2781  11623796\n",
              "2015-01-31  36.9748   7664340\n",
              "2015-01-31  37.8848   9732554\n",
              "2015-01-31  38.4961  13170548"
            ]
          },
          "metadata": {
            "tags": []
          },
          "execution_count": 67
        }
      ]
    },
    {
      "cell_type": "markdown",
      "metadata": {
        "id": "2qODk-EtGrkp",
        "colab_type": "text"
      },
      "source": [
        "**Rolling and Expanding**"
      ]
    },
    {
      "cell_type": "code",
      "metadata": {
        "id": "IF9Qe3yTDjis",
        "colab_type": "code",
        "colab": {
          "base_uri": "https://localhost:8080/",
          "height": 343
        },
        "outputId": "5af271af-9784-4e7a-894f-19b26bfc4bb3"
      },
      "source": [
        "df['Close'].plot.line(figsize=(12,5))       # normal line graph plot"
      ],
      "execution_count": 69,
      "outputs": [
        {
          "output_type": "execute_result",
          "data": {
            "text/plain": [
              "<matplotlib.axes._subplots.AxesSubplot at 0x7fb254015668>"
            ]
          },
          "metadata": {
            "tags": []
          },
          "execution_count": 69
        },
        {
          "output_type": "display_data",
          "data": {
            "image/png": "[encoded data removed]",
            "text/plain": [
              "<Figure size 864x360 with 1 Axes>"
            ]
          },
          "metadata": {
            "tags": [],
            "needs_background": "light"
          }
        }
      ]
    },
    {
      "cell_type": "code",
      "metadata": {
        "id": "qIj8JXLkGv6y",
        "colab_type": "code",
        "colab": {
          "base_uri": "https://localhost:8080/",
          "height": 343
        },
        "outputId": "193b5d93-7628-44bf-ac4e-660299f8d191"
      },
      "source": [
        "# rolling for window of 7 days and doing mean at that time period\n",
        "df.rolling(window=7).mean()['Close'].plot.line(figsize=(12,5))"
      ],
      "execution_count": 72,
      "outputs": [
        {
          "output_type": "execute_result",
          "data": {
            "text/plain": [
              "<matplotlib.axes._subplots.AxesSubplot at 0x7fb253da5d68>"
            ]
          },
          "metadata": {
            "tags": []
          },
          "execution_count": 72
        },
        {
          "output_type": "display_data",
          "data": {
            "image/png": "[encoded data removed]",
            "text/plain": [
              "<Figure size 864x360 with 1 Axes>"
            ]
          },
          "metadata": {
            "tags": [],
            "needs_background": "light"
          }
        }
      ]
    },
    {
      "cell_type": "code",
      "metadata": {
        "id": "QgJWw0fcHZKe",
        "colab_type": "code",
        "colab": {
          "base_uri": "https://localhost:8080/",
          "height": 343
        },
        "outputId": "3d562a8e-be93-442a-8cef-73f9b2cb4439"
      },
      "source": [
        "# here the window keeps on expanding\n",
        "df['Close'].expanding().mean().plot.line(figsize=(12,5))"
      ],
      "execution_count": 73,
      "outputs": [
        {
          "output_type": "execute_result",
          "data": {
            "text/plain": [
              "<matplotlib.axes._subplots.AxesSubplot at 0x7fb253c91780>"
            ]
          },
          "metadata": {
            "tags": []
          },
          "execution_count": 73
        },
        {
          "output_type": "display_data",
          "data": {
            "image/png": "[encoded data removed]",
            "text/plain": [
              "<Figure size 864x360 with 1 Axes>"
            ]
          },
          "metadata": {
            "tags": [],
            "needs_background": "light"
          }
        }
      ]
    },
    {
      "cell_type": "markdown",
      "metadata": {
        "id": "Swfjj_6PI17r",
        "colab_type": "text"
      },
      "source": [
        "# **Visualizing TS with Pandas**"
      ]
    },
    {
      "cell_type": "code",
      "metadata": {
        "id": "ttUQGEvtIJ61",
        "colab_type": "code",
        "colab": {
          "base_uri": "https://localhost:8080/",
          "height": 305
        },
        "outputId": "bdf88e1e-bfb2-443b-d73f-fc5b8ee821fe"
      },
      "source": [
        "df.plot()       # huge diff between scales"
      ],
      "execution_count": 79,
      "outputs": [
        {
          "output_type": "execute_result",
          "data": {
            "text/plain": [
              "<matplotlib.axes._subplots.AxesSubplot at 0x7fb253c871d0>"
            ]
          },
          "metadata": {
            "tags": []
          },
          "execution_count": 79
        },
        {
          "output_type": "display_data",
          "data": {
            "image/png": "[encoded data removed]",
            "text/plain": [
              "<Figure size 432x288 with 1 Axes>"
            ]
          },
          "metadata": {
            "tags": [],
            "needs_background": "light"
          }
        }
      ]
    },
    {
      "cell_type": "code",
      "metadata": {
        "id": "gx7LWwsEJ4ls",
        "colab_type": "code",
        "colab": {
          "base_uri": "https://localhost:8080/",
          "height": 343
        },
        "outputId": "3c4720b6-ba87-4c99-ca2e-dc60485a39bb"
      },
      "source": [
        "df['Close']['2017-01-01':'2017-12-31'].plot.line(figsize=(12,5))"
      ],
      "execution_count": 80,
      "outputs": [
        {
          "output_type": "execute_result",
          "data": {
            "text/plain": [
              "<matplotlib.axes._subplots.AxesSubplot at 0x7fb253bbabe0>"
            ]
          },
          "metadata": {
            "tags": []
          },
          "execution_count": 80
        },
        {
          "output_type": "display_data",
          "data": {
            "image/png": "[encoded data removed]",
            "text/plain": [
              "<Figure size 864x360 with 1 Axes>"
            ]
          },
          "metadata": {
            "tags": [],
            "needs_background": "light"
          }
        }
      ]
    },
    {
      "cell_type": "code",
      "metadata": {
        "id": "JgqO_Bh_amx8",
        "colab_type": "code",
        "colab": {
          "base_uri": "https://localhost:8080/",
          "height": 343
        },
        "outputId": "bf9adcc7-0b5b-44ee-e738-4ed45587d367"
      },
      "source": [
        "#another way\n",
        "df['Close'].plot.line(figsize=(12,5), xlim=['2017-01-01','2017-12-31'])\n",
        "# we can also set ylim just like xlim\n",
        "# we can set line style ls\n",
        "# we can set color c"
      ],
      "execution_count": 83,
      "outputs": [
        {
          "output_type": "execute_result",
          "data": {
            "text/plain": [
              "<matplotlib.axes._subplots.AxesSubplot at 0x7fb253b22780>"
            ]
          },
          "metadata": {
            "tags": []
          },
          "execution_count": 83
        },
        {
          "output_type": "display_data",
          "data": {
            "image/png": "[encoded data removed]",
            "text/plain": [
              "<Figure size 864x360 with 1 Axes>"
            ]
          },
          "metadata": {
            "tags": [],
            "needs_background": "light"
          }
        }
      ]
    },
    {
      "cell_type": "code",
      "metadata": {
        "id": "WYJqYDbRa3nq",
        "colab_type": "code",
        "colab": {}
      },
      "source": [
        "from matplotlib import dates"
      ],
      "execution_count": 0,
      "outputs": []
    },
    {
      "cell_type": "code",
      "metadata": {
        "id": "pVGecnrubaQO",
        "colab_type": "code",
        "colab": {
          "base_uri": "https://localhost:8080/",
          "height": 338
        },
        "outputId": "bb886bb7-e68d-4ee2-bf4a-ec9317591481"
      },
      "source": [
        "#setting the xticks\n",
        "ax = df['Close'].plot.line(figsize=(12,5), xlim=['2017-01-01','2017-03-01'], ylim = [50,60])\n",
        "ax.set(xlabel='')\n",
        "\n",
        "ax.xaxis.set_major_locator(dates.WeekdayLocator(byweekday=0))\n",
        "ax.xaxis.set_major_formatter(dates.DateFormatter('%a-%B-%d'))\n",
        "\n",
        "# we can also set minor locator and formatter"
      ],
      "execution_count": 87,
      "outputs": [
        {
          "output_type": "display_data",
          "data": {
            "image/png": "[encoded data removed]",
            "text/plain": [
              "<Figure size 864x360 with 1 Axes>"
            ]
          },
          "metadata": {
            "tags": [],
            "needs_background": "light"
          }
        }
      ]
    }
  ]
}